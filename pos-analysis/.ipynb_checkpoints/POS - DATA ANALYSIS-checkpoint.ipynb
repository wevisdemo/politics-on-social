{
 "cells": [
  {
   "cell_type": "markdown",
   "id": "5e0c0540",
   "metadata": {},
   "source": [
    "## POS - Data Analysis"
   ]
  },
  {
   "cell_type": "code",
   "execution_count": 1,
   "id": "9fa7940a",
   "metadata": {},
   "outputs": [],
   "source": [
    "import pandas as pd\n",
    "import numpy as np\n",
    "import matplotlib.pyplot as plt\n",
    "import sklearn"
   ]
  },
  {
   "cell_type": "code",
   "execution_count": 2,
   "id": "068f4fc8",
   "metadata": {},
   "outputs": [
    {
     "name": "stdout",
     "output_type": "stream",
     "text": [
      "โควิด\n",
      "เศรษฐกิจ\n",
      "กัญชา\n",
      "ความเท่าเทียมทางเพศ\n",
      "ม็อบ/การชุมนุม\n",
      "สถาบันพระมหากษัตริย์\n"
     ]
    }
   ],
   "source": [
    "keyword_sheet = pd.read_excel('./datasheet/Keyword for wisesight.xlsx')\n",
    "keyword = '|'.join(keyword_sheet.columns)\n",
    "for x in keyword_sheet:\n",
    "    print(x)"
   ]
  },
  {
   "cell_type": "markdown",
   "id": "51832dba",
   "metadata": {},
   "source": [
    "## [TOPIC_MENTION]\n",
    "\n"
   ]
  },
  {
   "cell_type": "code",
   "execution_count": 283,
   "id": "0049e751",
   "metadata": {},
   "outputs": [
    {
     "data": {
      "text/html": [
       "<div>\n",
       "<style scoped>\n",
       "    .dataframe tbody tr th:only-of-type {\n",
       "        vertical-align: middle;\n",
       "    }\n",
       "\n",
       "    .dataframe tbody tr th {\n",
       "        vertical-align: top;\n",
       "    }\n",
       "\n",
       "    .dataframe thead th {\n",
       "        text-align: right;\n",
       "    }\n",
       "</style>\n",
       "<table border=\"1\" class=\"dataframe\">\n",
       "  <thead>\n",
       "    <tr style=\"text-align: right;\">\n",
       "      <th></th>\n",
       "      <th>Date</th>\n",
       "      <th>Time</th>\n",
       "      <th>Message</th>\n",
       "      <th>Page</th>\n",
       "      <th>Page_Id</th>\n",
       "      <th>Message_Id</th>\n",
       "      <th>Type</th>\n",
       "      <th>total reaction comment share</th>\n",
       "      <th>total reactions</th>\n",
       "      <th>reaction</th>\n",
       "      <th>comment</th>\n",
       "      <th>Video Views</th>\n",
       "      <th>Link</th>\n",
       "      <th>topic_mention</th>\n",
       "      <th>member_mention</th>\n",
       "      <th>party_mention</th>\n",
       "    </tr>\n",
       "  </thead>\n",
       "  <tbody>\n",
       "    <tr>\n",
       "      <th>0</th>\n",
       "      <td>44804</td>\n",
       "      <td>0.621678</td>\n",
       "      <td>\"ส.ส.เดชทวี ศรีวิชัย เสรีรวมไทย\" หารือปัญหาพี่...</td>\n",
       "      <td>เสรีรวมไทย</td>\n",
       "      <td>UCDAyqlwqUOQleHrMCaySP-A</td>\n",
       "      <td>jFRE9LNGuxQ</td>\n",
       "      <td>video</td>\n",
       "      <td>121</td>\n",
       "      <td>6</td>\n",
       "      <td>6</td>\n",
       "      <td>0</td>\n",
       "      <td>115</td>\n",
       "      <td>see content</td>\n",
       "      <td>NaN</td>\n",
       "      <td>NaN</td>\n",
       "      <td>NaN</td>\n",
       "    </tr>\n",
       "    <tr>\n",
       "      <th>1</th>\n",
       "      <td>44798</td>\n",
       "      <td>0.710359</td>\n",
       "      <td>ส.ส.วิรัตน์ เสรีรวมไทย อภิปราย รับทราบ (ร่าง) ...</td>\n",
       "      <td>เสรีรวมไทย</td>\n",
       "      <td>UCDAyqlwqUOQleHrMCaySP-A</td>\n",
       "      <td>sOgEhQ82OFM</td>\n",
       "      <td>video</td>\n",
       "      <td>105</td>\n",
       "      <td>5</td>\n",
       "      <td>4</td>\n",
       "      <td>1</td>\n",
       "      <td>100</td>\n",
       "      <td>see content</td>\n",
       "      <td>เศรษฐกิจ</td>\n",
       "      <td>NaN</td>\n",
       "      <td>NaN</td>\n",
       "    </tr>\n",
       "    <tr>\n",
       "      <th>2</th>\n",
       "      <td>44798</td>\n",
       "      <td>0.480475</td>\n",
       "      <td>\"ส.ส.เป้ นภาพร เสรีรวมไทย\" หารือปัญหา ปชช. เรื...</td>\n",
       "      <td>เสรีรวมไทย</td>\n",
       "      <td>UCDAyqlwqUOQleHrMCaySP-A</td>\n",
       "      <td>bIF3q8nNzOM</td>\n",
       "      <td>video</td>\n",
       "      <td>203</td>\n",
       "      <td>7</td>\n",
       "      <td>7</td>\n",
       "      <td>0</td>\n",
       "      <td>196</td>\n",
       "      <td>see content</td>\n",
       "      <td>NaN</td>\n",
       "      <td>NaN</td>\n",
       "      <td>NaN</td>\n",
       "    </tr>\n",
       "    <tr>\n",
       "      <th>3</th>\n",
       "      <td>44797</td>\n",
       "      <td>0.543958</td>\n",
       "      <td>ส.ส.วิรัตน์ วรศสิริน เสรีรวมไทย อภิปราย ร่าง พ...</td>\n",
       "      <td>เสรีรวมไทย</td>\n",
       "      <td>UCDAyqlwqUOQleHrMCaySP-A</td>\n",
       "      <td>ztQjsqDWY3A</td>\n",
       "      <td>video</td>\n",
       "      <td>115</td>\n",
       "      <td>2</td>\n",
       "      <td>2</td>\n",
       "      <td>0</td>\n",
       "      <td>113</td>\n",
       "      <td>see content</td>\n",
       "      <td>NaN</td>\n",
       "      <td>วิรัตน์ วรศสิริน</td>\n",
       "      <td>NaN</td>\n",
       "    </tr>\n",
       "    <tr>\n",
       "      <th>4</th>\n",
       "      <td>44797</td>\n",
       "      <td>0.419676</td>\n",
       "      <td>\"ส.ส.เดชทวี ศรีวิชัย เสรีรวมไทย\" หารือปัญหาพี่...</td>\n",
       "      <td>เสรีรวมไทย</td>\n",
       "      <td>UCDAyqlwqUOQleHrMCaySP-A</td>\n",
       "      <td>xDhZCDHWCIc</td>\n",
       "      <td>video</td>\n",
       "      <td>425</td>\n",
       "      <td>7</td>\n",
       "      <td>7</td>\n",
       "      <td>0</td>\n",
       "      <td>418</td>\n",
       "      <td>see content</td>\n",
       "      <td>NaN</td>\n",
       "      <td>NaN</td>\n",
       "      <td>NaN</td>\n",
       "    </tr>\n",
       "  </tbody>\n",
       "</table>\n",
       "</div>"
      ],
      "text/plain": [
       "    Date      Time                                            Message  \\\n",
       "0  44804  0.621678  \"ส.ส.เดชทวี ศรีวิชัย เสรีรวมไทย\" หารือปัญหาพี่...   \n",
       "1  44798  0.710359  ส.ส.วิรัตน์ เสรีรวมไทย อภิปราย รับทราบ (ร่าง) ...   \n",
       "2  44798  0.480475  \"ส.ส.เป้ นภาพร เสรีรวมไทย\" หารือปัญหา ปชช. เรื...   \n",
       "3  44797  0.543958  ส.ส.วิรัตน์ วรศสิริน เสรีรวมไทย อภิปราย ร่าง พ...   \n",
       "4  44797  0.419676  \"ส.ส.เดชทวี ศรีวิชัย เสรีรวมไทย\" หารือปัญหาพี่...   \n",
       "\n",
       "         Page                   Page_Id   Message_Id   Type  \\\n",
       "0  เสรีรวมไทย  UCDAyqlwqUOQleHrMCaySP-A  jFRE9LNGuxQ  video   \n",
       "1  เสรีรวมไทย  UCDAyqlwqUOQleHrMCaySP-A  sOgEhQ82OFM  video   \n",
       "2  เสรีรวมไทย  UCDAyqlwqUOQleHrMCaySP-A  bIF3q8nNzOM  video   \n",
       "3  เสรีรวมไทย  UCDAyqlwqUOQleHrMCaySP-A  ztQjsqDWY3A  video   \n",
       "4  เสรีรวมไทย  UCDAyqlwqUOQleHrMCaySP-A  xDhZCDHWCIc  video   \n",
       "\n",
       "   total reaction comment share  total reactions  reaction  comment  \\\n",
       "0                           121                6         6        0   \n",
       "1                           105                5         4        1   \n",
       "2                           203                7         7        0   \n",
       "3                           115                2         2        0   \n",
       "4                           425                7         7        0   \n",
       "\n",
       "   Video Views         Link topic_mention    member_mention party_mention  \n",
       "0          115  see content           NaN               NaN           NaN  \n",
       "1          100  see content      เศรษฐกิจ               NaN           NaN  \n",
       "2          196  see content           NaN               NaN           NaN  \n",
       "3          113  see content           NaN  วิรัตน์ วรศสิริน           NaN  \n",
       "4          418  see content           NaN               NaN           NaN  "
      ]
     },
     "execution_count": 283,
     "metadata": {},
     "output_type": "execute_result"
    }
   ],
   "source": [
    "datasheet = pd.read_excel(\"./datasheet/YouTube_เสรีรวมไทย_complete.xlsx\")\n",
    "datasheet = datasheet.rename(columns={\"Topic_Mention\": \"topic_mention\",\"Member_mention\":\"member_mention\",\"Party_mention\":\"party_mention\"})\n",
    "datasheet.to_excel(\"./datasheet/YouTube_เสรีรวมไทย_complete.xlsx\",index=False)\n",
    "# datasheet['member_mention'] = datasheet['member_mention'].astype('object') \n",
    "datasheet.head()\n"
   ]
  },
  {
   "cell_type": "code",
   "execution_count": 284,
   "id": "c12469bd",
   "metadata": {},
   "outputs": [
    {
     "name": "stdout",
     "output_type": "stream",
     "text": [
      "485\n"
     ]
    }
   ],
   "source": [
    "print(len(datasheet))"
   ]
  },
  {
   "cell_type": "code",
   "execution_count": 285,
   "id": "d48c58af",
   "metadata": {},
   "outputs": [],
   "source": [
    "total_reaction = datasheet['total reaction comment share'].sum()"
   ]
  },
  {
   "cell_type": "code",
   "execution_count": 286,
   "id": "caee3309",
   "metadata": {},
   "outputs": [
    {
     "name": "stdout",
     "output_type": "stream",
     "text": [
      "จำนวน Records ทั้งหมด \t485\n",
      "จำนวน Engagement ทั้งหมด \t572696\n"
     ]
    },
    {
     "data": {
      "text/html": [
       "<div>\n",
       "<style scoped>\n",
       "    .dataframe tbody tr th:only-of-type {\n",
       "        vertical-align: middle;\n",
       "    }\n",
       "\n",
       "    .dataframe tbody tr th {\n",
       "        vertical-align: top;\n",
       "    }\n",
       "\n",
       "    .dataframe thead th {\n",
       "        text-align: right;\n",
       "    }\n",
       "</style>\n",
       "<table border=\"1\" class=\"dataframe\">\n",
       "  <thead>\n",
       "    <tr style=\"text-align: right;\">\n",
       "      <th></th>\n",
       "      <th>topic</th>\n",
       "      <th>engagement</th>\n",
       "      <th>percentage</th>\n",
       "    </tr>\n",
       "  </thead>\n",
       "  <tbody>\n",
       "    <tr>\n",
       "      <th>0</th>\n",
       "      <td>โควิด</td>\n",
       "      <td>11406</td>\n",
       "      <td>1.991633</td>\n",
       "    </tr>\n",
       "    <tr>\n",
       "      <th>1</th>\n",
       "      <td>เศรษฐกิจ</td>\n",
       "      <td>3129</td>\n",
       "      <td>0.546363</td>\n",
       "    </tr>\n",
       "    <tr>\n",
       "      <th>2</th>\n",
       "      <td>กัญชา</td>\n",
       "      <td>196</td>\n",
       "      <td>0.034224</td>\n",
       "    </tr>\n",
       "    <tr>\n",
       "      <th>3</th>\n",
       "      <td>ม็อบ/การชุมนุม</td>\n",
       "      <td>25398</td>\n",
       "      <td>4.434814</td>\n",
       "    </tr>\n",
       "    <tr>\n",
       "      <th>4</th>\n",
       "      <td>สถาบันพระมหากษัตริย์</td>\n",
       "      <td>720</td>\n",
       "      <td>0.125721</td>\n",
       "    </tr>\n",
       "  </tbody>\n",
       "</table>\n",
       "</div>"
      ],
      "text/plain": [
       "                  topic engagement percentage\n",
       "0                 โควิด      11406   1.991633\n",
       "1              เศรษฐกิจ       3129   0.546363\n",
       "2                 กัญชา        196   0.034224\n",
       "3        ม็อบ/การชุมนุม      25398   4.434814\n",
       "4  สถาบันพระมหากษัตริย์        720   0.125721"
      ]
     },
     "execution_count": 286,
     "metadata": {},
     "output_type": "execute_result"
    }
   ],
   "source": [
    "result_sheet = pd.DataFrame(columns=['topic','engagement','percentage'])\n",
    "\n",
    "print(f'จำนวน Records ทั้งหมด \\t{len(datasheet)}')\n",
    "print(f'จำนวน Engagement ทั้งหมด \\t{total_reaction}')\n",
    "for word in keyword_sheet:\n",
    "#     print(word)\n",
    "    post_count = datasheet['topic_mention'].str.contains(word,na=False).value_counts()\n",
    "    if True in post_count:\n",
    "        engagement = datasheet[datasheet['topic_mention'].str.contains(word,na=False)][\"total reaction comment share\"].sum()\n",
    "        percent = (engagement / total_reaction) * 100\n",
    "    #     print(f'Engagement: {engagement} --- {percent} %')\n",
    "        result_sheet = pd.concat([result_sheet, pd.Series({'topic' : word, 'engagement' : engagement, 'percentage' : percent}).to_frame().T],ignore_index=True)\n",
    "result_sheet"
   ]
  },
  {
   "cell_type": "markdown",
   "id": "792ed0f2",
   "metadata": {},
   "source": [
    "## [MEMBER]"
   ]
  },
  {
   "cell_type": "code",
   "execution_count": 287,
   "id": "a48ca8e0",
   "metadata": {},
   "outputs": [],
   "source": [
    "member_datasheet = pd.read_excel('./datasheet/Data_for_chart.xlsx',sheet_name='member_chart')\n",
    "# member_datasheet"
   ]
  },
  {
   "cell_type": "code",
   "execution_count": 288,
   "id": "a431f27f",
   "metadata": {},
   "outputs": [],
   "source": [
    "list_party = member_datasheet[\"party\"].unique()\n",
    "# list_party"
   ]
  },
  {
   "cell_type": "code",
   "execution_count": 289,
   "id": "d01a8a52",
   "metadata": {
    "scrolled": true
   },
   "outputs": [
    {
     "name": "stdout",
     "output_type": "stream",
     "text": [
      "เพื่อไทย\ttotal_mention: 0\ttotal_engagement: 0\n",
      "ก้าวไกล\ttotal_mention: 0\ttotal_engagement: 0\n",
      "อนาคตใหม่\ttotal_mention: 0\ttotal_engagement: 0\n",
      "เสรีรวมไทย\ttotal_mention: 202\ttotal_engagement: 477055\n"
     ]
    },
    {
     "data": {
      "text/html": [
       "<div>\n",
       "<style scoped>\n",
       "    .dataframe tbody tr th:only-of-type {\n",
       "        vertical-align: middle;\n",
       "    }\n",
       "\n",
       "    .dataframe tbody tr th {\n",
       "        vertical-align: top;\n",
       "    }\n",
       "\n",
       "    .dataframe thead th {\n",
       "        text-align: right;\n",
       "    }\n",
       "</style>\n",
       "<table border=\"1\" class=\"dataframe\">\n",
       "  <thead>\n",
       "    <tr style=\"text-align: right;\">\n",
       "      <th></th>\n",
       "      <th>member</th>\n",
       "      <th>post</th>\n",
       "      <th>engagement</th>\n",
       "    </tr>\n",
       "  </thead>\n",
       "  <tbody>\n",
       "    <tr>\n",
       "      <th>0</th>\n",
       "      <td>เสรีพิศุทธ์ เตมียเวส</td>\n",
       "      <td>136</td>\n",
       "      <td>465370</td>\n",
       "    </tr>\n",
       "    <tr>\n",
       "      <th>1</th>\n",
       "      <td>เรวัต วิศรุตเวช</td>\n",
       "      <td>19</td>\n",
       "      <td>1482</td>\n",
       "    </tr>\n",
       "    <tr>\n",
       "      <th>2</th>\n",
       "      <td>วิรัตน์ วรศสิริน</td>\n",
       "      <td>25</td>\n",
       "      <td>4444</td>\n",
       "    </tr>\n",
       "    <tr>\n",
       "      <th>3</th>\n",
       "      <td>วิศณุ ม่วงแพรสี</td>\n",
       "      <td>6</td>\n",
       "      <td>2074</td>\n",
       "    </tr>\n",
       "    <tr>\n",
       "      <th>4</th>\n",
       "      <td>นภาพร เพ็ชร์จินดา</td>\n",
       "      <td>16</td>\n",
       "      <td>3685</td>\n",
       "    </tr>\n",
       "  </tbody>\n",
       "</table>\n",
       "</div>"
      ],
      "text/plain": [
       "                 member post engagement\n",
       "0  เสรีพิศุทธ์ เตมียเวส  136     465370\n",
       "1       เรวัต วิศรุตเวช   19       1482\n",
       "2      วิรัตน์ วรศสิริน   25       4444\n",
       "3       วิศณุ ม่วงแพรสี    6       2074\n",
       "4     นภาพร เพ็ชร์จินดา   16       3685"
      ]
     },
     "metadata": {},
     "output_type": "display_data"
    },
    {
     "name": "stdout",
     "output_type": "stream",
     "text": [
      "พลังประชารัฐ\ttotal_mention: 0\ttotal_engagement: 0\n",
      "ภูมิใจไทย\ttotal_mention: 0\ttotal_engagement: 0\n",
      "ประชาธิปัตย์\ttotal_mention: 0\ttotal_engagement: 0\n"
     ]
    }
   ],
   "source": [
    "for party in list_party:\n",
    "    members = member_datasheet[member_datasheet[\"party\"] == party][\"name_1\"].tolist()\n",
    "    member_result_sheet = pd.DataFrame(columns=['member','post','engagement'])\n",
    "    total_mention,total_engagement = 0,0\n",
    "    for member in members:\n",
    "        count = datasheet['member_mention'].str.contains(member, na=False).value_counts()\n",
    "        if True in count:\n",
    "            engagement = datasheet[datasheet['member_mention'].str.contains(member, na=False)][\"total reaction comment share\"].sum()\n",
    "            total_engagement+=engagement\n",
    "#             print(datasheet[datasheet['member_mention'].str.contains(member, na=False)][\"total reaction comment share\"])\n",
    "            total_mention+=count[True]\n",
    "            member_result_sheet = pd.concat([member_result_sheet, pd.Series({'member' : member, 'post' : count[True],\"engagement\":engagement}).to_frame().T],ignore_index=True)\n",
    "    print(f'{party}\\ttotal_mention: {total_mention}\\ttotal_engagement: {total_engagement}')\n",
    "    if total_mention != 0:\n",
    "        display(member_result_sheet)\n",
    "#         display(member_result_sheet.sort_values(by=[\"post\",\"engagement\"],ascending=False))"
   ]
  },
  {
   "cell_type": "code",
   "execution_count": 290,
   "id": "82a2b5f5",
   "metadata": {
    "scrolled": true
   },
   "outputs": [
    {
     "name": "stdout",
     "output_type": "stream",
     "text": [
      "x\n"
     ]
    },
    {
     "data": {
      "text/html": [
       "<div>\n",
       "<style scoped>\n",
       "    .dataframe tbody tr th:only-of-type {\n",
       "        vertical-align: middle;\n",
       "    }\n",
       "\n",
       "    .dataframe tbody tr th {\n",
       "        vertical-align: top;\n",
       "    }\n",
       "\n",
       "    .dataframe thead th {\n",
       "        text-align: right;\n",
       "    }\n",
       "</style>\n",
       "<table border=\"1\" class=\"dataframe\">\n",
       "  <thead>\n",
       "    <tr style=\"text-align: right;\">\n",
       "      <th></th>\n",
       "      <th>party</th>\n",
       "      <th>post</th>\n",
       "      <th>engagement</th>\n",
       "    </tr>\n",
       "  </thead>\n",
       "  <tbody>\n",
       "    <tr>\n",
       "      <th>0</th>\n",
       "      <td>พลังประชารัฐ</td>\n",
       "      <td>38</td>\n",
       "      <td>28477</td>\n",
       "    </tr>\n",
       "    <tr>\n",
       "      <th>1</th>\n",
       "      <td>ภูมิใจไทย</td>\n",
       "      <td>4</td>\n",
       "      <td>1849</td>\n",
       "    </tr>\n",
       "    <tr>\n",
       "      <th>2</th>\n",
       "      <td>ประชาธิปัตย์</td>\n",
       "      <td>1</td>\n",
       "      <td>323</td>\n",
       "    </tr>\n",
       "  </tbody>\n",
       "</table>\n",
       "</div>"
      ],
      "text/plain": [
       "          party post engagement\n",
       "0  พลังประชารัฐ   38      28477\n",
       "1     ภูมิใจไทย    4       1849\n",
       "2  ประชาธิปัตย์    1        323"
      ]
     },
     "metadata": {},
     "output_type": "display_data"
    }
   ],
   "source": [
    "print('x')\n",
    "party_result_sheet = pd.DataFrame(columns=['party','post','engagement'])\n",
    "for party in list_party:\n",
    "    count = datasheet['party_mention'].str.contains(party, na=False).value_counts()\n",
    "    if True in count:\n",
    "        engagement = datasheet[datasheet['party_mention'].str.contains(party, na=False)][\"total reaction comment share\"].sum()\n",
    "        party_result_sheet = pd.concat([party_result_sheet, pd.Series({'party' : party, 'post' : count[True], 'engagement' : engagement}).to_frame().T],ignore_index=True)\n",
    "display(party_result_sheet)"
   ]
  },
  {
   "cell_type": "code",
   "execution_count": null,
   "id": "d20e932c",
   "metadata": {},
   "outputs": [],
   "source": []
  },
  {
   "cell_type": "code",
   "execution_count": null,
   "id": "dc48c5e4",
   "metadata": {},
   "outputs": [],
   "source": []
  },
  {
   "cell_type": "code",
   "execution_count": null,
   "id": "952f1732",
   "metadata": {},
   "outputs": [],
   "source": []
  }
 ],
 "metadata": {
  "kernelspec": {
   "display_name": "Python 3 (ipykernel)",
   "language": "python",
   "name": "python3"
  },
  "language_info": {
   "codemirror_mode": {
    "name": "ipython",
    "version": 3
   },
   "file_extension": ".py",
   "mimetype": "text/x-python",
   "name": "python",
   "nbconvert_exporter": "python",
   "pygments_lexer": "ipython3",
   "version": "3.10.4"
  }
 },
 "nbformat": 4,
 "nbformat_minor": 5
}
